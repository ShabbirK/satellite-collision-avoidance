{
 "cells": [
  {
   "cell_type": "code",
   "execution_count": 1,
   "metadata": {},
   "outputs": [],
   "source": [
    "import pykep as pk\n",
    "import space_navigator as snav\n",
    "import numpy as np"
   ]
  },
  {
   "cell_type": "code",
   "execution_count": 2,
   "metadata": {},
   "outputs": [],
   "source": [
    "EARTH_RADIUS = 6.3781e6\n",
    "MU_EARTH = 398600800000000.0"
   ]
  },
  {
   "cell_type": "code",
   "execution_count": 3,
   "metadata": {},
   "outputs": [],
   "source": [
    "env_path = 'complex.env'"
   ]
  },
  {
   "cell_type": "code",
   "execution_count": 4,
   "metadata": {},
   "outputs": [],
   "source": [
    "# a (semi-major axis): meters\n",
    "altitude = np.array([\n",
    "    686.0118,\n",
    "    685.4915,\n",
    "    685.4774,\n",
    "    686.1085,\n",
    "    686.0851,\n",
    "])\n",
    "a = altitude + EARTH_RADIUS # TODO: уточнить\n",
    "\n",
    "# e (eccentricity): 0 < e < 1\n",
    "e = np.array([\n",
    "    0.000602,\n",
    "    0.000726,\n",
    "    0.000711,\n",
    "    0.000730,\n",
    "    0.000728,\n",
    "])\n",
    "\n",
    "# i (inclination): radians\n",
    "inc = np.radians([\n",
    "    98.288,\n",
    "    94.123,\n",
    "    94.325,\n",
    "    97.394,\n",
    "    98.118,\n",
    "])\n",
    "\n",
    "# W (Longitude of the ascending node): radians\n",
    "W = np.radians([\n",
    "    334.084,\n",
    "    353.603,\n",
    "    353.441,\n",
    "    346.278,\n",
    "    345.912,\n",
    "])\n",
    "\n",
    "# w (Argument of periapsis): radians\n",
    "w = np.radians([\n",
    "    329.626,\n",
    "    336.080,\n",
    "    337.108,\n",
    "    335.771,\n",
    "    335.712,\n",
    "])\n",
    "\n",
    "# M (mean anomaly): radians\n",
    "M = np.radians([\n",
    "    276.353,\n",
    "    271.929,\n",
    "    270.931,\n",
    "    272.011,\n",
    "    271.991,\n",
    "])"
   ]
  },
  {
   "cell_type": "code",
   "execution_count": 5,
   "metadata": {},
   "outputs": [],
   "source": [
    "names = [\n",
    "    'K2',\n",
    "    'Debris1',\n",
    "    'Debris2',\n",
    "    'Debris3',\n",
    "    'Debris4',\n",
    "]"
   ]
  },
  {
   "cell_type": "code",
   "execution_count": 6,
   "metadata": {},
   "outputs": [],
   "source": [
    "# Maneuver start time (1.5 orbit before first collision)\n",
    "start_epoch = pk.epoch_from_string(\"2011-03-30 02:58:26.270\")\n",
    "collision_epochs = {\n",
    "    \"Debris1\": pk.epoch_from_string(\"2011-03-30 10:50:29.255\"),\n",
    "    \"Debris2\": pk.epoch_from_string(\"2011-03-30 07:33:09.015\"),\n",
    "    \"Debris3\": pk.epoch_from_string(\"2011-03-30 13:16:18.125\"),\n",
    "    \"Debris4\": pk.epoch_from_string(\"2011-03-30 05:02:23.052\"),\n",
    "}"
   ]
  },
  {
   "cell_type": "code",
   "execution_count": 43,
   "metadata": {},
   "outputs": [],
   "source": [
    "# попробовать epoch = 0 в jd или еще где\n",
    "epoch = collision_epochs[\"Debris4\"].mjd2000\n",
    "start_time = start_epoch.mjd2000\n",
    "end_time = collision_epochs[\"Debris3\"].mjd2000 + 0.001"
   ]
  },
  {
   "cell_type": "code",
   "execution_count": 75,
   "metadata": {},
   "outputs": [],
   "source": [
    "# epoch = 0\n",
    "# start_time =  collision_epochs[\"Debris4\"].mjd2000\n",
    "# end_time = start_time + 0.3\n",
    "\n",
    "# epoch = collision_epochs[\"Debris4\"].mjd2000\n",
    "# start_time = epoch\n",
    "# end_time = start_time + 0.3\n",
    "\n",
    "# epoch = collision_epochs[\"Debris4\"].mjd2000\n",
    "# start_time = epoch\n",
    "# end_time = start_time + 3"
   ]
  },
  {
   "cell_type": "code",
   "execution_count": 76,
   "metadata": {},
   "outputs": [
    {
     "data": {
      "text/plain": [
       "2011-Mar-30 02:58:26.270000"
      ]
     },
     "execution_count": 76,
     "metadata": {},
     "output_type": "execute_result"
    }
   ],
   "source": [
    "start_epoch"
   ]
  },
  {
   "cell_type": "code",
   "execution_count": 77,
   "metadata": {},
   "outputs": [],
   "source": [
    "mu_protected = 0.1 #?\n",
    "radius_protected = 20 #?\n",
    "safe_radius_protected = 20 #?\n",
    "fuel = 10\n",
    "\n",
    "mu_debris = 0.1 #?\n",
    "radius_debris = 0.1\n",
    "safe_radius_debris = 0.1"
   ]
  },
  {
   "cell_type": "code",
   "execution_count": 78,
   "metadata": {
    "scrolled": true
   },
   "outputs": [
    {
     "data": {
      "text/plain": [
       "{'Debris1': 2011-Mar-30 10:50:29.255000,\n",
       " 'Debris2': 2011-Mar-30 07:33:09.015000,\n",
       " 'Debris3': 2011-Mar-30 13:16:18.125000,\n",
       " 'Debris4': 2011-Mar-30 05:02:23.052000}"
      ]
     },
     "execution_count": 78,
     "metadata": {},
     "output_type": "execute_result"
    }
   ],
   "source": [
    "collision_epochs"
   ]
  },
  {
   "cell_type": "code",
   "execution_count": 79,
   "metadata": {},
   "outputs": [],
   "source": [
    "protected_str = f\"\"\"{names[0]}\n",
    "{epoch}\n",
    "{a[0]}, {e[0]}, {inc[0]}, {W[0]}, {w[0]}, {M[0]}\n",
    "{MU_EARTH}, {mu_protected}, {radius_protected}, {safe_radius_protected}\n",
    "{fuel}\n",
    "\"\"\"\n",
    "\n",
    "debris_str = \"\"\n",
    "for i in range(1, 5):\n",
    "    debris_str += f\"\"\"{names[i]}\n",
    "{epoch}\n",
    "{a[i]}, {e[i]}, {inc[i]}, {W[i]}, {w[i]}, {M[i]}\n",
    "{MU_EARTH}, {mu_debris}, {radius_debris}, {safe_radius_debris}\n",
    "0\n",
    "\"\"\"\n",
    "\n",
    "env_str = f\"\"\"{start_time}, {end_time}\n",
    "osc\n",
    "\"\"\" + protected_str + debris_str"
   ]
  },
  {
   "cell_type": "code",
   "execution_count": 80,
   "metadata": {},
   "outputs": [],
   "source": [
    "# protected_str = f\"\"\"{names[0]}\n",
    "# {start_time}\n",
    "# {a[0]}, {e[0]}, {inc[0]}, {W[0]}, {w[0]}, {M[0]}\n",
    "# {MU_EARTH}, {mu_protected}, {radius_protected}, {safe_radius_protected}\n",
    "# {fuel}\n",
    "# \"\"\"\n",
    "\n",
    "# debris_str = \"\"\n",
    "# for i in range(1, 5):\n",
    "#     debris_str += f\"\"\"{names[i]}\n",
    "# {collision_epochs[names[i]].mjd2000}\n",
    "# {a[i]}, {e[i]}, {inc[i]}, {W[i]}, {w[i]}, {M[i]}\n",
    "# {MU_EARTH}, {mu_debris}, {radius_debris}, {safe_radius_debris}\n",
    "# 0\n",
    "# \"\"\"\n",
    "\n",
    "# env_str = f\"\"\"{start_time}, {end_time}\n",
    "# osc\n",
    "# \"\"\" + protected_str + debris_str"
   ]
  },
  {
   "cell_type": "code",
   "execution_count": 81,
   "metadata": {},
   "outputs": [],
   "source": [
    "with open(env_path, 'w') as f:\n",
    "    f.write(env_str)"
   ]
  },
  {
   "cell_type": "code",
   "execution_count": null,
   "metadata": {},
   "outputs": [],
   "source": []
  },
  {
   "cell_type": "code",
   "execution_count": null,
   "metadata": {},
   "outputs": [],
   "source": []
  },
  {
   "cell_type": "code",
   "execution_count": null,
   "metadata": {},
   "outputs": [],
   "source": []
  },
  {
   "cell_type": "code",
   "execution_count": null,
   "metadata": {},
   "outputs": [],
   "source": []
  },
  {
   "cell_type": "code",
   "execution_count": null,
   "metadata": {},
   "outputs": [],
   "source": []
  },
  {
   "cell_type": "code",
   "execution_count": 82,
   "metadata": {},
   "outputs": [],
   "source": [
    "env = snav.utils.read_environment(env_path)"
   ]
  },
  {
   "cell_type": "code",
   "execution_count": 83,
   "metadata": {},
   "outputs": [],
   "source": [
    "agent = snav.agent.TableAgent()\n",
    "# simulator = snav.simulator.Simulator(agent, env)"
   ]
  },
  {
   "cell_type": "code",
   "execution_count": 84,
   "metadata": {
    "scrolled": true
   },
   "outputs": [],
   "source": [
    "data = snav.models.collision_data(env, 1e-6, agent)\n",
    "for coll in data:\n",
    "    print(coll['debris_name'], coll['epoch'])"
   ]
  },
  {
   "cell_type": "code",
   "execution_count": 54,
   "metadata": {},
   "outputs": [],
   "source": [
    "# проверка (что вообще учитывается + что расстояния похожие)\n",
    "# как привязать сюда дату?"
   ]
  },
  {
   "cell_type": "code",
   "execution_count": null,
   "metadata": {},
   "outputs": [],
   "source": []
  },
  {
   "cell_type": "code",
   "execution_count": null,
   "metadata": {},
   "outputs": [],
   "source": []
  }
 ],
 "metadata": {
  "kernelspec": {
   "display_name": "Python 3",
   "language": "python",
   "name": "python3"
  },
  "language_info": {
   "codemirror_mode": {
    "name": "ipython",
    "version": 3
   },
   "file_extension": ".py",
   "mimetype": "text/x-python",
   "name": "python",
   "nbconvert_exporter": "python",
   "pygments_lexer": "ipython3",
   "version": "3.6.6"
  }
 },
 "nbformat": 4,
 "nbformat_minor": 2
}
